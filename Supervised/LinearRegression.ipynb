{
  "nbformat": 4,
  "nbformat_minor": 0,
  "metadata": {
    "colab": {
      "provenance": []
    },
    "kernelspec": {
      "name": "python3",
      "display_name": "Python 3"
    },
    "language_info": {
      "name": "python"
    }
  },
  "cells": [
    {
      "cell_type": "markdown",
      "source": [
        "#Linear Regression"
      ],
      "metadata": {
        "id": "hrGWR3Yum2zd"
      }
    },
    {
      "cell_type": "code",
      "source": [
        "!pip install matplotlib --upgrade"
      ],
      "metadata": {
        "colab": {
          "base_uri": "https://localhost:8080/"
        },
        "id": "a4ay4AJHMCX0",
        "outputId": "0339ae81-dd66-4507-f400-a9f2610a7c76"
      },
      "execution_count": null,
      "outputs": [
        {
          "output_type": "stream",
          "name": "stdout",
          "text": [
            "Looking in indexes: https://pypi.org/simple, https://us-python.pkg.dev/colab-wheels/public/simple/\n",
            "Requirement already satisfied: matplotlib in /usr/local/lib/python3.7/dist-packages (3.5.3)\n",
            "Requirement already satisfied: kiwisolver>=1.0.1 in /usr/local/lib/python3.7/dist-packages (from matplotlib) (1.4.4)\n",
            "Requirement already satisfied: pyparsing>=2.2.1 in /usr/local/lib/python3.7/dist-packages (from matplotlib) (3.0.9)\n",
            "Requirement already satisfied: fonttools>=4.22.0 in /usr/local/lib/python3.7/dist-packages (from matplotlib) (4.37.4)\n",
            "Requirement already satisfied: packaging>=20.0 in /usr/local/lib/python3.7/dist-packages (from matplotlib) (21.3)\n",
            "Requirement already satisfied: cycler>=0.10 in /usr/local/lib/python3.7/dist-packages (from matplotlib) (0.11.0)\n",
            "Requirement already satisfied: python-dateutil>=2.7 in /usr/local/lib/python3.7/dist-packages (from matplotlib) (2.8.2)\n",
            "Requirement already satisfied: pillow>=6.2.0 in /usr/local/lib/python3.7/dist-packages (from matplotlib) (7.1.2)\n",
            "Requirement already satisfied: numpy>=1.17 in /usr/local/lib/python3.7/dist-packages (from matplotlib) (1.21.6)\n",
            "Requirement already satisfied: typing-extensions in /usr/local/lib/python3.7/dist-packages (from kiwisolver>=1.0.1->matplotlib) (4.1.1)\n",
            "Requirement already satisfied: six>=1.5 in /usr/local/lib/python3.7/dist-packages (from python-dateutil>=2.7->matplotlib) (1.15.0)\n"
          ]
        }
      ]
    },
    {
      "cell_type": "code",
      "source": [
        "import matplotlib\n",
        "import matplotlib.pyplot as plt\n",
        "import numpy as np\n",
        "import pandas as pd\n",
        "\n",
        "n = 100\n",
        "X = np.array([i*0.1 for i in range(n)])\n",
        "y = np.array([i*0.1+np.random.randn() for i in range(n)])\n",
        "df = pd.DataFrame({\"X\":X,\"y\":y})\n",
        "df.head()\n"
      ],
      "metadata": {
        "id": "rjTazOoDm1Wi",
        "colab": {
          "base_uri": "https://localhost:8080/",
          "height": 206
        },
        "outputId": "4d5257ac-e014-4660-a5cd-9927ddee574a"
      },
      "execution_count": null,
      "outputs": [
        {
          "output_type": "execute_result",
          "data": {
            "text/plain": [
              "     X         y\n",
              "0  0.0 -0.175779\n",
              "1  0.1  1.626652\n",
              "2  0.2 -0.500286\n",
              "3  0.3  1.600086\n",
              "4  0.4 -1.598277"
            ],
            "text/html": [
              "\n",
              "  <div id=\"df-c06077f7-7651-4bd1-939d-c11eba9597f8\">\n",
              "    <div class=\"colab-df-container\">\n",
              "      <div>\n",
              "<style scoped>\n",
              "    .dataframe tbody tr th:only-of-type {\n",
              "        vertical-align: middle;\n",
              "    }\n",
              "\n",
              "    .dataframe tbody tr th {\n",
              "        vertical-align: top;\n",
              "    }\n",
              "\n",
              "    .dataframe thead th {\n",
              "        text-align: right;\n",
              "    }\n",
              "</style>\n",
              "<table border=\"1\" class=\"dataframe\">\n",
              "  <thead>\n",
              "    <tr style=\"text-align: right;\">\n",
              "      <th></th>\n",
              "      <th>X</th>\n",
              "      <th>y</th>\n",
              "    </tr>\n",
              "  </thead>\n",
              "  <tbody>\n",
              "    <tr>\n",
              "      <th>0</th>\n",
              "      <td>0.0</td>\n",
              "      <td>-0.175779</td>\n",
              "    </tr>\n",
              "    <tr>\n",
              "      <th>1</th>\n",
              "      <td>0.1</td>\n",
              "      <td>1.626652</td>\n",
              "    </tr>\n",
              "    <tr>\n",
              "      <th>2</th>\n",
              "      <td>0.2</td>\n",
              "      <td>-0.500286</td>\n",
              "    </tr>\n",
              "    <tr>\n",
              "      <th>3</th>\n",
              "      <td>0.3</td>\n",
              "      <td>1.600086</td>\n",
              "    </tr>\n",
              "    <tr>\n",
              "      <th>4</th>\n",
              "      <td>0.4</td>\n",
              "      <td>-1.598277</td>\n",
              "    </tr>\n",
              "  </tbody>\n",
              "</table>\n",
              "</div>\n",
              "      <button class=\"colab-df-convert\" onclick=\"convertToInteractive('df-c06077f7-7651-4bd1-939d-c11eba9597f8')\"\n",
              "              title=\"Convert this dataframe to an interactive table.\"\n",
              "              style=\"display:none;\">\n",
              "        \n",
              "  <svg xmlns=\"http://www.w3.org/2000/svg\" height=\"24px\"viewBox=\"0 0 24 24\"\n",
              "       width=\"24px\">\n",
              "    <path d=\"M0 0h24v24H0V0z\" fill=\"none\"/>\n",
              "    <path d=\"M18.56 5.44l.94 2.06.94-2.06 2.06-.94-2.06-.94-.94-2.06-.94 2.06-2.06.94zm-11 1L8.5 8.5l.94-2.06 2.06-.94-2.06-.94L8.5 2.5l-.94 2.06-2.06.94zm10 10l.94 2.06.94-2.06 2.06-.94-2.06-.94-.94-2.06-.94 2.06-2.06.94z\"/><path d=\"M17.41 7.96l-1.37-1.37c-.4-.4-.92-.59-1.43-.59-.52 0-1.04.2-1.43.59L10.3 9.45l-7.72 7.72c-.78.78-.78 2.05 0 2.83L4 21.41c.39.39.9.59 1.41.59.51 0 1.02-.2 1.41-.59l7.78-7.78 2.81-2.81c.8-.78.8-2.07 0-2.86zM5.41 20L4 18.59l7.72-7.72 1.47 1.35L5.41 20z\"/>\n",
              "  </svg>\n",
              "      </button>\n",
              "      \n",
              "  <style>\n",
              "    .colab-df-container {\n",
              "      display:flex;\n",
              "      flex-wrap:wrap;\n",
              "      gap: 12px;\n",
              "    }\n",
              "\n",
              "    .colab-df-convert {\n",
              "      background-color: #E8F0FE;\n",
              "      border: none;\n",
              "      border-radius: 50%;\n",
              "      cursor: pointer;\n",
              "      display: none;\n",
              "      fill: #1967D2;\n",
              "      height: 32px;\n",
              "      padding: 0 0 0 0;\n",
              "      width: 32px;\n",
              "    }\n",
              "\n",
              "    .colab-df-convert:hover {\n",
              "      background-color: #E2EBFA;\n",
              "      box-shadow: 0px 1px 2px rgba(60, 64, 67, 0.3), 0px 1px 3px 1px rgba(60, 64, 67, 0.15);\n",
              "      fill: #174EA6;\n",
              "    }\n",
              "\n",
              "    [theme=dark] .colab-df-convert {\n",
              "      background-color: #3B4455;\n",
              "      fill: #D2E3FC;\n",
              "    }\n",
              "\n",
              "    [theme=dark] .colab-df-convert:hover {\n",
              "      background-color: #434B5C;\n",
              "      box-shadow: 0px 1px 3px 1px rgba(0, 0, 0, 0.15);\n",
              "      filter: drop-shadow(0px 1px 2px rgba(0, 0, 0, 0.3));\n",
              "      fill: #FFFFFF;\n",
              "    }\n",
              "  </style>\n",
              "\n",
              "      <script>\n",
              "        const buttonEl =\n",
              "          document.querySelector('#df-c06077f7-7651-4bd1-939d-c11eba9597f8 button.colab-df-convert');\n",
              "        buttonEl.style.display =\n",
              "          google.colab.kernel.accessAllowed ? 'block' : 'none';\n",
              "\n",
              "        async function convertToInteractive(key) {\n",
              "          const element = document.querySelector('#df-c06077f7-7651-4bd1-939d-c11eba9597f8');\n",
              "          const dataTable =\n",
              "            await google.colab.kernel.invokeFunction('convertToInteractive',\n",
              "                                                     [key], {});\n",
              "          if (!dataTable) return;\n",
              "\n",
              "          const docLinkHtml = 'Like what you see? Visit the ' +\n",
              "            '<a target=\"_blank\" href=https://colab.research.google.com/notebooks/data_table.ipynb>data table notebook</a>'\n",
              "            + ' to learn more about interactive tables.';\n",
              "          element.innerHTML = '';\n",
              "          dataTable['output_type'] = 'display_data';\n",
              "          await google.colab.output.renderOutput(dataTable, element);\n",
              "          const docLink = document.createElement('div');\n",
              "          docLink.innerHTML = docLinkHtml;\n",
              "          element.appendChild(docLink);\n",
              "        }\n",
              "      </script>\n",
              "    </div>\n",
              "  </div>\n",
              "  "
            ]
          },
          "metadata": {},
          "execution_count": 62
        }
      ]
    },
    {
      "cell_type": "code",
      "source": [
        "def linear(X,m):\n",
        "  y = m*X\n",
        "  return y"
      ],
      "metadata": {
        "id": "LR1lGtj9nwG4"
      },
      "execution_count": null,
      "outputs": []
    },
    {
      "cell_type": "code",
      "source": [
        "m_awal = 5\n",
        "m_pred = m_awal\n",
        "X_pred = np.array([0,10])\n",
        "y_pred = linear(X_pred,m_pred)\n",
        "\n",
        "for i in range(1,n):\n",
        "  y_pred = linear(X[i], m_pred)\n",
        "  y_act = y[i]\n",
        "  error = y_act - y_pred\n",
        "  delta_m = error/X[i]\n",
        "  m_pred = m_pred + delta_m\n",
        "  \n",
        "y_pred = linear(X_pred,m_pred)\n",
        "# plt.axis([0,10,0,10])\n",
        "plt.scatter(X,y)\n",
        "plt.plot(X_pred,y_pred,\"red\")\n",
        "plt.show()"
      ],
      "metadata": {
        "colab": {
          "base_uri": "https://localhost:8080/",
          "height": 266
        },
        "id": "WRtS_4_Ing1L",
        "outputId": "cc0ff1b9-2351-405d-f7c8-f4647610bc28"
      },
      "execution_count": null,
      "outputs": [
        {
          "output_type": "display_data",
          "data": {
            "text/plain": [
              "<Figure size 432x288 with 1 Axes>"
            ],
            "image/png": "[encoded data removed]"
          },
          "metadata": {
            "needs_background": "light"
          }
        }
      ]
    },
    {
      "cell_type": "markdown",
      "source": [
        "#y = a + bX\n",
        "## a = y-intercept\n",
        "## b = slope\n",
        "## b = Σ(x - x!)(y - y!)/Σ(x - x!)\n",
        "x! = rata-rata x\n",
        "y! = rata-rata y\n",
        "\n"
      ],
      "metadata": {
        "id": "tDXe1ZUwtXLp"
      }
    },
    {
      "cell_type": "code",
      "source": [
        "mean_x = df.X.sum()/df.X.count()\n",
        "mean_y = df.y.sum()/df.y.count()\n"
      ],
      "metadata": {
        "id": "q1ym5rSF-Atq"
      },
      "execution_count": null,
      "outputs": []
    },
    {
      "cell_type": "markdown",
      "source": [
        "## Mencari Slope"
      ],
      "metadata": {
        "id": "iqWlnuly-Eho"
      }
    },
    {
      "cell_type": "code",
      "source": [
        "\n",
        "# Mencari slope\n",
        "# 1. mencari data x-x!\n",
        "x_ = []\n",
        "for i in X:\n",
        "  x_.append(i - mean_x)\n",
        "\n",
        "# 2. mencari data y-y!\n",
        "y_ = []\n",
        "for i in y:\n",
        "  y_.append(i - mean_y)\n",
        "\n",
        "# 3. mendari data (x-x!)(y-y!)\n",
        "x_kali_y = []\n",
        "for i in range(n):\n",
        "  x_kali_y.append(x_[i]*y_[i])\n",
        "\n",
        "# 4. mencari sigma(x-x!)(y-y!)\n",
        "sigma_x_kali_y = sum(x_kali_y)\n",
        "\n",
        "# 5. mencari sigma(x-x!)^2\n",
        "kuadrat_x_ = [i**2 for i in x_]\n",
        "sigma_kuadrat_x_ = sum(kuadrat_x_)\n",
        "\n",
        "# 6. masukkan rumus b\n",
        "b = sigma_x_kali_y/sigma_kuadrat_x_\n",
        "\n",
        "df_hasil = pd.DataFrame({\"(x-x!)\":x_,\"(y-y!)\":y_,\"(x-x!)(y-y!)\":x_kali_y})\n"
      ],
      "metadata": {
        "id": "yWnMrMQk98Zb"
      },
      "execution_count": null,
      "outputs": []
    },
    {
      "cell_type": "markdown",
      "source": [
        "## Mencari intercept"
      ],
      "metadata": {
        "id": "owmkw9Yo-Jie"
      }
    },
    {
      "cell_type": "code",
      "source": [
        "\n",
        "# Mencari y-intercept\n",
        "# 1. masukkan rumus y = a + bX\n",
        "# y = mean_y\n",
        "# x = mean_x\n",
        "# jadi -a = bX - y => a = y - bX \n",
        "a = mean_y - b*mean_x\n",
        "\n",
        "y_ = a + b*mean_x"
      ],
      "metadata": {
        "id": "5P1megBrtW0W"
      },
      "execution_count": null,
      "outputs": []
    },
    {
      "cell_type": "markdown",
      "source": [
        "## Membuat fungsi prediksi"
      ],
      "metadata": {
        "id": "TYmLcAO-Dgse"
      }
    },
    {
      "cell_type": "code",
      "source": [
        "color = \"green\"\n",
        "def MyLinearRegression(x):\n",
        "  y_pred = a + b*x\n",
        "  plt.plot([x,min(y)],[x,x],color=color,linestyle='dashed')\n",
        "  plt.plot([x,x],[x,min(y)],color=color,linestyle='dashed')\n",
        "  plt.scatter(x,y_pred,color=color)\n",
        "  print(f'Prediksi y untuk x={x} adalah {y_pred}')"
      ],
      "metadata": {
        "id": "O1mpRul9_EHy"
      },
      "execution_count": null,
      "outputs": []
    },
    {
      "cell_type": "markdown",
      "source": [
        "## Membuat model evaluasi MEA (Mean Absolute Error) => Sigma(var(fit))\n"
      ],
      "metadata": {
        "id": "K2xa9qFOHJdY"
      }
    },
    {
      "cell_type": "code",
      "source": [
        "def mae():\n",
        "  y_pred = [a + b*i for i in X]\n",
        "  y_act = y\n",
        "  mae = sum([abs(y_act[i] - y_pred[i]) for i in range(n)]) / n\n",
        "  print(f'MAE: {mae}')"
      ],
      "metadata": {
        "id": "CpYbdO2FHIfV"
      },
      "execution_count": null,
      "outputs": []
    },
    {
      "cell_type": "markdown",
      "source": [
        "## Membuat model evaluasi R-Squared\n",
        "### R^2 = (var(mean)^2 - var(fit)^2)/var(mean)^2"
      ],
      "metadata": {
        "id": "BPA1obk_KKYB"
      }
    },
    {
      "cell_type": "code",
      "source": [
        "def r_squared():\n",
        "  var_mean = sum([(i - mean_y)**2 for i in y])\n",
        "  y_pred = [a + b*i for i in X]\n",
        "  y_act = y\n",
        "  var_fit = sum([abs((y_act[i] - y_pred[i])**2) for i in range(n)])\n",
        "  r_squared = (var_mean - var_fit)/var_mean\n",
        "  print(f'R-Squared: {r_squared}')"
      ],
      "metadata": {
        "id": "rK8dG4RfKJ91"
      },
      "execution_count": null,
      "outputs": []
    },
    {
      "cell_type": "markdown",
      "source": [
        "## Visualisasi Data"
      ],
      "metadata": {
        "id": "0Lk7J0sB-mRf"
      }
    },
    {
      "cell_type": "code",
      "source": [
        "# intercept adalah suatu titik perpotongan antara suatu garis dengan sumbu Y pada diagram/sumbu kartesius saat nilai X = 0. \n",
        "plt.axline((0, a), slope=b, color=color, label='by slope')\n",
        "# plt.axis([0,10,0,10])\n",
        "mae()\n",
        "r_squared()\n",
        "MyLinearRegression(6)\n",
        "plt.scatter(X,y)\n",
        "plt.show()"
      ],
      "metadata": {
        "colab": {
          "base_uri": "https://localhost:8080/",
          "height": 320
        },
        "id": "pYCnLPEi-gB0",
        "outputId": "e54ffe38-e027-490f-d07b-6e4e696863f9"
      },
      "execution_count": null,
      "outputs": [
        {
          "output_type": "stream",
          "name": "stdout",
          "text": [
            "MAE: 0.898321970993926\n",
            "R-Squared: 0.8769684005884918\n",
            "Prediksi y untuk x=6 adalah 6.13345377288153\n"
          ]
        },
        {
          "output_type": "display_data",
          "data": {
            "text/plain": [
              "<Figure size 432x288 with 1 Axes>"
            ],
            "image/png": "[encoded data removed]"
          },
          "metadata": {
            "needs_background": "light"
          }
        }
      ]
    },
    {
      "cell_type": "markdown",
      "source": [
        "#Linear Regression menggunakan scikit-learn"
      ],
      "metadata": {
        "id": "a5hd_TWgMn1Z"
      }
    },
    {
      "cell_type": "code",
      "source": [
        "from sklearn.linear_model import LinearRegression\n",
        "from sklearn.metrics import mean_absolute_error,  r2_score\n",
        "model = LinearRegression()\n",
        "data_x = np.array(X)\n",
        "model.fit(np.reshape(data_x,  (-1,1)),np.reshape(y,  (-1,1)))\n",
        "pred = model.predict([[6]])\n",
        "y_pred = [a + b*i for i in X]\n",
        "mae = mean_absolute_error(y,y_pred)\n",
        "r_sq = r2_score(y,y_pred)\n",
        "print(mae)\n",
        "print(r_sq)\n",
        "print(pred)"
      ],
      "metadata": {
        "colab": {
          "base_uri": "https://localhost:8080/"
        },
        "id": "gVZOepXbMnG7",
        "outputId": "882da1e2-48ed-4ada-e53a-613993c9ad5b"
      },
      "execution_count": null,
      "outputs": [
        {
          "output_type": "stream",
          "name": "stdout",
          "text": [
            "0.898321970993926\n",
            "0.8769684005884918\n",
            "[[6.13345377]]\n"
          ]
        }
      ]
    }
  ]
}