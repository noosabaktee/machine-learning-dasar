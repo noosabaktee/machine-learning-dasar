{
  "cells": [
    {
      "cell_type": "code",
      "execution_count": 25,
      "metadata": {
        "colab": {
          "base_uri": "https://localhost:8080/"
        },
        "id": "FwlXuJsexdYm",
        "outputId": "7984da32-bce7-45cf-98aa-89e8fad1bc78"
      },
      "outputs": [
        {
          "data": {
            "text/plain": [
              "Suburb           6196\n",
              "Address          6196\n",
              "Rooms            6196\n",
              "Type             6196\n",
              "Price            6196\n",
              "Method           6196\n",
              "SellerG          6196\n",
              "Date             6196\n",
              "Distance         6196\n",
              "Postcode         6196\n",
              "Bedroom2         6196\n",
              "Bathroom         6196\n",
              "Car              6196\n",
              "Landsize         6196\n",
              "BuildingArea     6196\n",
              "YearBuilt        6196\n",
              "CouncilArea      6196\n",
              "Lattitude        6196\n",
              "Longtitude       6196\n",
              "Regionname       6196\n",
              "Propertycount    6196\n",
              "dtype: int64"
            ]
          },
          "execution_count": 25,
          "metadata": {},
          "output_type": "execute_result"
        }
      ],
      "source": [
        "\"\"\"\n",
        "How does model works?\n",
        "Machine learning bekerja dengan cara mengidentifikasi pola pada data yang ada untuk memprediksi target.\n",
        "Esensi machine learning:\n",
        "1. Memiliki pola\n",
        "2. Belum memiliki formula untuk menentukan target, jika sudah ada formula untuk apa menggunakan machine learning.\n",
        "3. Punya datanya\n",
        "\"\"\"\n",
        "\n",
        "# Basic data exploration\n",
        "import pandas as pd\n",
        "\n",
        "path = \"../data/melb_data.csv\"\n",
        "\n",
        "df = pd.read_csv(path)\n",
        "\n",
        "#hapus data kosong, \n",
        "# axis=0 artinya jika ada satu data yang kosong dalam satu baris maka semua data dalam baris tersebut akan dihapus\n",
        "# axis=1 artinya jika ada satu data yang kosong dalam satu kolom maka semua data dalam kolom tersebut akan dihapus\n",
        "\n",
        "df = df.dropna(axis=0)\n",
        "\n",
        "#menghitung jumlah data\n",
        "df.count()"
      ]
    },
    {
      "cell_type": "code",
      "execution_count": 33,
      "metadata": {
        "colab": {
          "base_uri": "https://localhost:8080/"
        },
        "id": "0_9EKp8Z4IEG",
        "outputId": "462b127c-4b44-4431-864b-32a1c18b2d8f"
      },
      "outputs": [
        {
          "name": "stdout",
          "output_type": "stream",
          "text": [
            "Making predictions for the following 5 houses:\n",
            "   Rooms  Bathroom  Landsize  Lattitude  Longtitude\n",
            "1      2       1.0     156.0   -37.8079    144.9934\n",
            "2      3       2.0     134.0   -37.8093    144.9944\n",
            "4      4       1.0     120.0   -37.8072    144.9941\n",
            "6      3       2.0     245.0   -37.8024    144.9993\n",
            "7      2       1.0     256.0   -37.8060    144.9954\n",
            "The predictions are\n",
            "[1035000. 1465000. 1600000. 1876000. 1636000.]\n"
          ]
        }
      ],
      "source": [
        "#Import model\n",
        "from sklearn.tree import DecisionTreeRegressor\n",
        "\n",
        "model = DecisionTreeRegressor(random_state=3)\n",
        "#Menggunakan random_state agar hasilnya tidak berubah-ubah\n",
        "\n",
        "#Mulai membuat model\n",
        "\"\"\"\n",
        "Untuk membuat meodel kita harus punya:\n",
        "1. Feature (data yang digunakan untuk memprediksi) biasanya dilambangkan X\n",
        "2. Target (data yang digunakan untuk hasil prediksi) biasanya dilambangkan y\n",
        "\"\"\"\n",
        "\n",
        "#Karena kita ingin memprediksi harga rumah, maka kita menggunakan 5 kolom untuk feature dan 1 kolom (Price) untuk target\n",
        "\n",
        "#Features\n",
        "df_features = ['Rooms', 'Bathroom', 'Landsize', 'Lattitude', 'Longtitude']\n",
        "X = df[df_features]\n",
        "X.describe()\n",
        "\n",
        "#Target\n",
        "y = df.Price\n",
        "\n",
        "#Latih data\n",
        "model.fit(X,y)\n",
        "\n",
        "#Hasil prediksi ML kita\n",
        "print(\"Making predictions for the following 5 houses:\")\n",
        "print(X.head())\n",
        "print(\"The predictions are\")\n",
        "print(model.predict(X.head()))"
      ]
    },
    {
      "cell_type": "code",
      "execution_count": 34,
      "metadata": {
        "colab": {
          "base_uri": "https://localhost:8080/"
        },
        "id": "n43KkDni70Ii",
        "outputId": "6caff555-33b0-44f1-c84f-54821d84ed21"
      },
      "outputs": [
        {
          "data": {
            "text/plain": [
              "1115.7467183128902"
            ]
          },
          "execution_count": 34,
          "metadata": {},
          "output_type": "execute_result"
        }
      ],
      "source": [
        "# Model Valdation\n",
        "# Model Validation digunakan untuk mengukur seberapa tepat akurasi ML kita memprediksi hasil \n",
        "# Disini kita akan menggunakan tehnik MAE (Mean Absolute Error) untuk mengevaluasi model kita, semakin kecil MAE maka semakin baik Model kita\n",
        "# MAE menghitung jumlah selisih antara y_test dengan y_pred dibagi jumlah data (n)\n",
        "# y_test = data yang sudah kita sisipkan untuk test \n",
        "# y_pred = data yang kita prediksi\n",
        "\n",
        "from sklearn.metrics import mean_absolute_error\n",
        "\n",
        "y_pred = model.predict(X)\n",
        "mean_absolute_error(y, y_pred)\n"
      ]
    },
    {
      "cell_type": "code",
      "execution_count": 45,
      "metadata": {
        "colab": {
          "base_uri": "https://localhost:8080/"
        },
        "id": "D41cuBIR-Sxg",
        "outputId": "68d89e51-4839-4274-f8d1-e02ee9d3cd7a"
      },
      "outputs": [
        {
          "data": {
            "text/plain": [
              "260995.34925758553"
            ]
          },
          "execution_count": 45,
          "metadata": {},
          "output_type": "execute_result"
        }
      ],
      "source": [
        "# Memisahkan data untuk train dan test\n",
        "from sklearn.model_selection import train_test_split\n",
        "X_train, X_test, y_train, y_test = train_test_split(X, y, random_state = 3)\n",
        "\n",
        "# Jadi, kita akan menggunakan X_train dan y_train untuk fit model\n",
        "# Lalu kita akan memprediksi menggunakan X_test\n",
        "# hasil X_test itu akan kita ukur (evaluasi) dengan y_test(yang sudah pasti benar karena diambil langsung dari data pasangan X_test)\n",
        "\n",
        "model_2 = DecisionTreeRegressor(random_state=3)\n",
        "model_2.fit(X_train, y_train)\n",
        "\n",
        "y_pred = model_2.predict(X_test)\n",
        "mae = mean_absolute_error(y_test,y_pred)\n",
        "mae"
      ]
    },
    {
      "cell_type": "code",
      "execution_count": 46,
      "metadata": {
        "colab": {
          "base_uri": "https://localhost:8080/"
        },
        "id": "eSDJcfs8CRrO",
        "outputId": "3a463e2d-9139-4239-e57b-a50a01f0d952"
      },
      "outputs": [
        {
          "name": "stdout",
          "output_type": "stream",
          "text": [
            "Max leaf nodes: 5  \t\t Mean Absolute Error:  369937\n",
            "Max leaf nodes: 50  \t\t Mean Absolute Error:  266677\n",
            "Max leaf nodes: 500  \t\t Mean Absolute Error:  244752\n",
            "Max leaf nodes: 5000  \t\t Mean Absolute Error:  262982\n"
          ]
        }
      ],
      "source": [
        "# Overfitting dan Underfitting \n",
        "\"\"\"\n",
        "Overfitting yaitu ketika Model yang kita buat cocok dengan data pelatihan bahkan hampir sempurna, tapi ketika dicoba pada data baru model kita tidak\n",
        "bekerja dengan baik. Overfitting ini terjadi karena model benar-benar memasukkan (menghapal) semua data dan tidak mencari polanya.\n",
        "Underfitting kebalikannya, yaitu Model yang tidak bekerja dengan baik pada data train maupun data baru\n",
        "\n",
        "Untuk mengatasi masalah Overfitting dan Underfitting maka kita harus memilih data yang bagus (tidak harus semua dimasukkan) untuk membuat model kita\n",
        "\"\"\"\n",
        "\n",
        "# Contoh dari kaggle\n",
        "def get_mae(max_leaf_nodes, train_X, val_X, train_y, val_y):\n",
        "    model = DecisionTreeRegressor(max_leaf_nodes=max_leaf_nodes, random_state=0)\n",
        "    model.fit(train_X, train_y)\n",
        "    preds_val = model.predict(val_X)\n",
        "    mae = mean_absolute_error(val_y, preds_val)\n",
        "    return(mae)\n",
        "\n",
        "\n",
        "for max_leaf_nodes in [5, 50, 500, 5000]:\n",
        "    my_mae = get_mae(max_leaf_nodes, X_train, X_test, y_train, y_test)\n",
        "    print(\"Max leaf nodes: %d  \\t\\t Mean Absolute Error:  %d\" %(max_leaf_nodes, my_mae))\n",
        "\n",
        "\"\"\"\n",
        "Lihat outputnya, dari 5-500 leaf kita mendapatkan MAE yang semakin bagus (turun), tapi saat 5000 leaf MAE kembali naik.\n",
        "Maka optimalnya ada pada 500 leaf\n",
        "\"\"\""
      ]
    },
    {
      "cell_type": "code",
      "execution_count": 49,
      "metadata": {
        "colab": {
          "base_uri": "https://localhost:8080/"
        },
        "id": "lT2YLnwhJS9p",
        "outputId": "56e481eb-7884-4f5d-f5b5-b29b69bd5e74"
      },
      "outputs": [
        {
          "name": "stdout",
          "output_type": "stream",
          "text": [
            "188620.57381577467\n"
          ]
        }
      ],
      "source": [
        "# Random Forests\n",
        "# Dari Kaggle \n",
        "\"\"\"\n",
        "Pohon yang dalam dengan banyak daun akan overfit karena setiap prediksi berasal dari data historis hanya dari beberapa rumah di daunnya. \n",
        "Tetapi pohon yang dangkal dengan sedikit daun akan berkinerja buruk karena gagal menangkap banyak perbedaan dalam data mentah.\n",
        "\"\"\"\n",
        "\"\"\"\n",
        "Random Forests menggunakan banyak pohon, dan membuat prediksi dengan merata-ratakan prediksi setiap pohon komponen. \n",
        "Ini umumnya memiliki akurasi prediksi yang jauh lebih baik daripada DecisionTree dan bekerja dengan baik dengan parameter default. \n",
        "Jika Anda terus membuat model, Anda dapat mempelajari lebih banyak model dengan kinerja yang lebih baik, tetapi banyak di antaranya yang sensitif untuk mendapatkan parameter yang tepat.\n",
        "\"\"\"\n",
        "\n",
        "# Let's practice\n",
        "from sklearn.ensemble import RandomForestRegressor\n",
        "forest_model = RandomForestRegressor(random_state=3)\n",
        "forest_model.fit(X_train, y_train)\n",
        "forest_pred = forest_model.predict(X_test)\n",
        "print(mean_absolute_error(y_test, forest_pred))\n",
        "\n",
        "\"\"\"\n",
        "Dengan menggunakan DecisionTree kita mendapatakan MAE 244rb sedangkan dengan menggunakan RandomForest kita mendapatkan MAE 188rb\n",
        "Dalam kasus ini kita sedang memprediksi harga rumah, dapat kita lihat prediksi harga rumah dengan DecisionTree lebih mahal 56rb dibandingkan harga rumah dengan RandomForest\n",
        "\"\"\"\n"
      ]
    }
  ],
  "metadata": {
    "colab": {
      "provenance": [],
      "toc_visible": true
    },
    "kernelspec": {
      "display_name": "Python 3",
      "name": "python3"
    },
    "language_info": {
      "name": "python"
    }
  },
  "nbformat": 4,
  "nbformat_minor": 0
}
